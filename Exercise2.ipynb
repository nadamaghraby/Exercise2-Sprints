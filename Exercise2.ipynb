{
  "cells": [
    {
      "cell_type": "markdown",
      "metadata": {
        "id": "iVMVKkGQfUxM"
      },
      "source": [
        "## Matrix Algebra"
      ]
    },
    {
      "cell_type": "markdown",
      "metadata": {
        "id": "T3cVbExIfUxh"
      },
      "source": [
        "### Exercises\n",
        "\n",
        "**Exercise 1:** Calculate $-2E$, $G+F$, $4F-G$, $HG$, and $GE$ using the following matrix definitions.  Do the exercise on paper first, then check by doing the calculation with NumPy arrays.\n",
        "\n",
        "$$\n",
        "\\begin{equation}\n",
        "E = \\left[ \\begin{array}{r} 5 \\\\ -2 \\end{array}\\right] \\hspace{1cm} \n",
        "F = \\left[ \\begin{array}{rr} 1 & 6 \\\\ 2 & 0 \\\\ -1 & -1 \\end{array}\\right] \\hspace{1cm}\n",
        "G = \\left[ \\begin{array}{rr} 2 & 0\\\\ -1 & 3 \\\\ -1 & 6 \\end{array}\\right] \\hspace{1cm}\n",
        "H = \\left[ \\begin{array}{rrr} 3 & 0 & 1 \\\\ 1 & -2 & 2 \\\\ 3 & 4 & -1\\end{array}\\right]\n",
        "\\end{equation}\n",
        "$$"
      ]
    },
    {
      "cell_type": "code",
      "execution_count": 13,
      "metadata": {
        "id": "R1Tbl5COfUxh",
        "colab": {
          "base_uri": "https://localhost:8080/"
        },
        "outputId": "78071b4f-3cc9-48aa-8739-c8f37e2d1c94"
      },
      "outputs": [
        {
          "output_type": "stream",
          "name": "stdout",
          "text": [
            "-2E= [[-10]\n",
            " [  4]] \n",
            "\n",
            "G+F= [[ 3  6]\n",
            " [ 1  3]\n",
            " [-2  5]] \n",
            "\n",
            "4F-G= [[  2  24]\n",
            " [  9  -3]\n",
            " [ -3 -10]] \n",
            "\n",
            "HG= [[5 6]\n",
            " [2 6]\n",
            " [3 6]] \n",
            "\n",
            "GE= [[ 10]\n",
            " [-11]\n",
            " [-17]] \n",
            "\n"
          ]
        }
      ],
      "source": [
        "## Code solution here.\n",
        "import numpy as np\n",
        "E=np.array([[5],[-2]])\n",
        "G=np.array([[2,0],[-1,3],[-1,6]])\n",
        "F=np.array([[1,6],[2,0],[-1,-1]])\n",
        "H=np.array([[3,0,1],[1,-2,2],[3,4,-1]])\n",
        "print(\"-2E=\",-2*E,\"\\n\")\n",
        "print(\"G+F=\",G+F,\"\\n\")\n",
        "print(\"4F-G=\",4*F-G,\"\\n\")\n",
        "print(\"HG=\",H@G, \"\\n\")\n",
        "print(\"GE=\",G@E, \"\\n\")"
      ]
    },
    {
      "cell_type": "markdown",
      "metadata": {
        "id": "1fWuYafDfUxh"
      },
      "source": [
        "**Exercise 2:** Find the values of $y$ so that this equation holds.\n",
        "\n",
        "$$\n",
        "\\begin{equation}\n",
        "\\left[ \\begin{array}{rr} 1 & 0 & 2 & -1 \\\\ 3 & 1 & -3 & 2 \\\\ 2 & 0 & 4 & 4 \\\\ 2 & 1 & -1 & -1 \\end{array}\\right]\n",
        "\\left[ \\begin{array}{rr} y1 \\\\ y2 \\\\ y3 \\\\ y4\\end{array}\\right]=\n",
        "\\left[ \\begin{array}{rr} 0 \\\\ 0 \\\\ 1 \\\\ 0 \\end{array}\\right] \n",
        "\\end{equation}\n",
        "$$"
      ]
    },
    {
      "cell_type": "code",
      "source": [
        "## Code solution here.\n",
        "A=np.array([[1,0,2,-1],[3,1,-3,2],[2,0,4,4],[2,1,-1,-1]])\n",
        "B=np.array([[0],[0],[1],[0]])\n",
        "A_inv =np.linalg.inv(A) \n",
        "y=A_inv@B\n",
        "# print(A_inv,\"\\n\")\n",
        "print(\"y=\",y)"
      ],
      "metadata": {
        "id": "pQAzh-vLjGOU",
        "colab": {
          "base_uri": "https://localhost:8080/"
        },
        "outputId": "d2a38298-2da3-431f-b30f-5166f42bc3d9"
      },
      "execution_count": 32,
      "outputs": [
        {
          "output_type": "stream",
          "name": "stdout",
          "text": [
            "y= [[-0.16666667]\n",
            " [ 0.66666667]\n",
            " [ 0.16666667]\n",
            " [ 0.16666667]]\n"
          ]
        }
      ]
    },
    {
      "cell_type": "markdown",
      "metadata": {
        "id": "mwUPmU4ifUxi"
      },
      "source": [
        "**Exercise 3:** Define NumPy arrays for the matrices $H$ and $G$ given below.  \n",
        "\n",
        "$$\n",
        "\\begin{equation}\n",
        "H = \\left[ \\begin{array}{rrr} 3 & 3 & -1  \\\\ -3 & 0 & 8 \\\\  1 & 6 & 5 \\end{array}\\right]\\hspace{2cm}\n",
        "G = \\left[ \\begin{array}{rrrr} 1 & 5 & 2 & -3 \\\\ 7 & -2 & -3 & 0 \\\\ 2 & 2 & 4 & 6\\end{array}\\right]\n",
        "\\end{equation}\n",
        "$$\n",
        "\n",
        "$(a)$ Multiply the second and third column of $H$ with the first and second row of $G$.  Use slicing to make subarrays.  Does the result have any relationship to the full product $HG$?\n",
        "\n",
        "$(b)$ Multiply the first and second row of $H$ with the second and third column of $G$.  Does this result have any relationship to the full product $HG$?\n"
      ]
    },
    {
      "cell_type": "code",
      "execution_count": 52,
      "metadata": {
        "id": "1GpInaFCfUxj",
        "colab": {
          "base_uri": "https://localhost:8080/"
        },
        "outputId": "f2a149f8-50b2-4e48-f1f1-4872208c8a2f"
      },
      "outputs": [
        {
          "output_type": "stream",
          "name": "stdout",
          "text": [
            "The result of multiplying the two arrays: \n",
            "  [[ 22   7  -7 -15]\n",
            " [ 13   1  26  57]\n",
            " [ 53   3   4  27]]\n",
            "\n",
            "The result of multiplying the first two subarrays: \n",
            "  [[ -4  17   9  -9]\n",
            " [ 56 -16 -24   0]\n",
            " [ 41  20  -3 -18]]\n",
            "(a): No the result doesn't have any relationship to the full product \n",
            "\n",
            "The result of multiplying the second two subarrays: \n",
            "  [[ 7 -7]\n",
            " [ 1 26]]\n",
            "(b): Yes the result has a relationship to the full product, It's a subarray of the product \n",
            "\n"
          ]
        }
      ],
      "source": [
        "## Code solution here.\n",
        "H=np.array([[3,3,-1],[-3,0,8],[1,6,5]])\n",
        "G=np.array([[1,5,2,-3],[7,-2,-3,0],[2,2,4,6]])\n",
        "H_2c=H[:,1:]\n",
        "G_2r=G[:2,:]\n",
        "H_2r=H[:2,:]\n",
        "G_2c=G[:,1:3]\n",
        "result_a= H_2c@G_2r\n",
        "result_b= H_2r@G_2c\n",
        "# print(H_2r)\n",
        "# print(G_2c)\n",
        "print(\"The result of multiplying the two arrays: \\n \",H@G)\n",
        "\n",
        "print(\"\\nThe result of multiplying the first two subarrays: \\n \", result_a)\n",
        "print(\"(a): No the result doesn't have any relationship to the full product \\n\")\n",
        "print(\"The result of multiplying the second two subarrays: \\n \", result_b)\n",
        "print(\"(b): Yes the result has a relationship to the full product, It's a subarray of the product \\n\")\n",
        "\n"
      ]
    },
    {
      "cell_type": "markdown",
      "metadata": {
        "id": "DqnXF27AfUxj"
      },
      "source": [
        "**Exercise 4:** Generate a $4\\times 4$ matrix $B$ with random integer entries.  Compute matrices $P = \\frac12(B+B^T)$ and $Q = \\frac12(B-B^T)$.  Rerun your code several times to get different matrices.  What do you notice about $P$ and $Q$?  Explain why it must always be true.       "
      ]
    },
    {
      "cell_type": "code",
      "execution_count": 73,
      "metadata": {
        "id": "wkSAmFc_fUxk",
        "colab": {
          "base_uri": "https://localhost:8080/"
        },
        "outputId": "71cb757d-263e-45c4-b4af-6fb4117e3f22"
      },
      "outputs": [
        {
          "output_type": "stream",
          "name": "stdout",
          "text": [
            "Matrix P is:\n",
            " [[-8.   2.5 -3.   0. ]\n",
            " [ 2.5  0.  -1.5 -5.5]\n",
            " [-3.  -1.5  6.   4. ]\n",
            " [ 0.  -5.5  4.  -3. ]]\n",
            "P is a symmetric matrix\n",
            "\n",
            "Matrix Q is:\n",
            " [[ 0.   5.5 -6.   7. ]\n",
            " [-5.5  0.  -5.5 -1.5]\n",
            " [ 6.   5.5  0.   0. ]\n",
            " [-7.   1.5  0.   0. ]]\n",
            "Q is a skew-symmetric matrix\n"
          ]
        }
      ],
      "source": [
        "## Code solution here.\n",
        "B=np.random.randint(-10,10,size=(4,4))\n",
        "B_T=B.transpose()\n",
        "P=0.5*(B+B_T)\n",
        "Q=0.5*(B-B_T)\n",
        "print(\"Matrix P is:\\n\",P)\n",
        "print(\"P is a symmetric matrix\")\n",
        "print(\"\\nMatrix Q is:\\n\",Q)\n",
        "print(\"Q is a skew-symmetric matrix\")\n",
        "#Matrix P is a symmetric matrix\n",
        "#Matrix Q is a skew-symmetric matrix\n"
      ]
    },
    {
      "cell_type": "markdown",
      "source": [
        "**Exercise 5:** Create a Python function named **Angle** which takes two vectors as arguments and returns **cos(Theta)** where **Theta** is the angle between the two vectors. Use this function to show that vectors $U$ and $W$ are orthogonal.\n",
        "    \n",
        "$$\n",
        "\\begin{equation}\n",
        "U = \\left[ \\begin{array}{rrr} 1 \\\\ -1 \\\\ 2 \\end{array}\\right]\\hspace{2cm}\n",
        "W = \\left[ \\begin{array}{rrrr} 2 \\\\ 0 \\\\ -1 \\end{array}\\right]\n",
        "\\end{equation}\n",
        "$$\n",
        "\n",
        "\n"
      ],
      "metadata": {
        "id": "PNB6qdMHtywM"
      }
    },
    {
      "cell_type": "code",
      "source": [
        "from numpy.linalg import norm\n",
        "import math\n",
        "## Code solution here.\n",
        "def Angle(v1,v2):\n",
        "  p=np.dot(v1,v2)\n",
        "  norm_mult=norm(v1)*norm(v2)\n",
        "  cosine_Theta=p/norm_mult\n",
        "  Theta_rad= math.acos(cosine_Theta)\n",
        "  Theta= Theta_rad*180/math.pi\n",
        "  return Theta\n",
        "u=[1,-1,2]\n",
        "w=[2,0,-1]\n",
        "Angle(u,w)  "
      ],
      "metadata": {
        "id": "gSDCg0gPtz8K",
        "colab": {
          "base_uri": "https://localhost:8080/"
        },
        "outputId": "69e70e69-4227-447c-c8d7-1f8c906239ec"
      },
      "execution_count": 83,
      "outputs": [
        {
          "output_type": "execute_result",
          "data": {
            "text/plain": [
              "90.0"
            ]
          },
          "metadata": {},
          "execution_count": 83
        }
      ]
    }
  ],
  "metadata": {
    "kernelspec": {
      "display_name": "Python 3",
      "language": "python",
      "name": "python3"
    },
    "language_info": {
      "codemirror_mode": {
        "name": "ipython",
        "version": 3
      },
      "file_extension": ".py",
      "mimetype": "text/x-python",
      "name": "python",
      "nbconvert_exporter": "python",
      "pygments_lexer": "ipython3",
      "version": "3.7.3"
    },
    "colab": {
      "name": "Exercise2.ipynb",
      "provenance": [],
      "collapsed_sections": [
        "X2tSQmxJfUxd"
      ]
    }
  },
  "nbformat": 4,
  "nbformat_minor": 0
}